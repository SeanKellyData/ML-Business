{
 "cells": [
  {
   "cell_type": "code",
   "execution_count": null,
   "id": "2ae0f5e0",
   "metadata": {},
   "outputs": [],
   "source": []
  },
  {
   "cell_type": "code",
   "execution_count": null,
   "id": "cf3cd6a9",
   "metadata": {},
   "outputs": [],
   "source": []
  },
  {
   "cell_type": "code",
   "execution_count": null,
   "id": "d6c5a53a",
   "metadata": {},
   "outputs": [],
   "source": [
    "import pandas as pd\n",
    "import seaborn as sns\n",
    "import matplotlib.pyplot as plt\n",
    "import numpy as np\n",
    "import statistics as stats\n",
    "from sklearn.cluster import KMeans\n",
    "from sklearn.preprocessing import StandardScaler, LabelEncoder, OneHotEncoder\n",
    "from sklearn.compose import ColumnTransformer\n",
    "from sklearn.metrics import silhouette_score\n",
    "from mlxtend.frequent_patterns import apriori\n",
    "import warnings\n",
    "\n",
    "warnings.filterwarnings('ignore')"
   ]
  },
  {
   "cell_type": "code",
   "execution_count": null,
   "id": "08e8c2db-5188-425f-aff3-363be7cea76b",
   "metadata": {},
   "outputs": [],
   "source": [
    "sheet1 = pd.read_excel('data.xlsx', 0)\n",
    "sheet2 = pd.read_excel('data.xlsx', 1)"
   ]
  },
  {
   "cell_type": "code",
   "execution_count": null,
   "id": "09aff50b-df38-4452-b939-289d7110960a",
   "metadata": {},
   "outputs": [],
   "source": [
    "db = pd.concat([sheet1, sheet2])"
   ]
  },
  {
   "cell_type": "code",
   "execution_count": null,
   "id": "501cf240",
   "metadata": {},
   "outputs": [],
   "source": [
    "db = pd.read_excel('data.xlsx')\n",
    "db.to_csv('data.csv', index=False)"
   ]
  },
  {
   "cell_type": "code",
   "execution_count": null,
   "id": "bfabe71a",
   "metadata": {},
   "outputs": [],
   "source": [
    "db.head()"
   ]
  },
  {
   "cell_type": "code",
   "execution_count": null,
   "id": "68c1f61f",
   "metadata": {},
   "outputs": [],
   "source": [
    "db.tail()"
   ]
  },
  {
   "cell_type": "code",
   "execution_count": null,
   "id": "74e46af9",
   "metadata": {},
   "outputs": [],
   "source": [
    "db.shape"
   ]
  },
  {
   "cell_type": "code",
   "execution_count": null,
   "id": "07276954",
   "metadata": {},
   "outputs": [],
   "source": [
    "db.dtypes"
   ]
  },
  {
   "cell_type": "code",
   "execution_count": null,
   "id": "ae265bc9",
   "metadata": {},
   "outputs": [],
   "source": [
    "db.isnull().sum()"
   ]
  },
  {
   "cell_type": "code",
   "execution_count": null,
   "id": "df103a38",
   "metadata": {},
   "outputs": [],
   "source": [
    "db.duplicated()"
   ]
  },
  {
   "cell_type": "code",
   "execution_count": null,
   "id": "5c7159b1",
   "metadata": {},
   "outputs": [],
   "source": [
    "db.info()"
   ]
  },
  {
   "cell_type": "code",
   "execution_count": null,
   "id": "41e6e5a4",
   "metadata": {},
   "outputs": [],
   "source": [
    "db.dropna(inplace=True)"
   ]
  },
  {
   "cell_type": "code",
   "execution_count": null,
   "id": "7f97d45f",
   "metadata": {},
   "outputs": [],
   "source": [
    "db.shape"
   ]
  },
  {
   "cell_type": "code",
   "execution_count": null,
   "id": "1b8150aa",
   "metadata": {},
   "outputs": [],
   "source": [
    "db.nunique()"
   ]
  },
  {
   "cell_type": "code",
   "execution_count": null,
   "id": "0d03dd33",
   "metadata": {},
   "outputs": [],
   "source": [
    "#There is no target varibale for clustering\n",
    "#Dropped non values as there is a sufficient amount of data to work with"
   ]
  },
  {
   "cell_type": "code",
   "execution_count": null,
   "id": "3337a827-3718-43dc-90dd-f4b806d2756c",
   "metadata": {},
   "outputs": [],
   "source": [
    "first = [489434,12,2.95, 17530.0]\n",
    "second = [489434,12,6.75, 13085.0]\n",
    "total = 0\n",
    "for i in range(len(first)):\n",
    "    print((first[i]-second[i])**2)\n",
    "    total += (first[i]-second[i])**2\n",
    "total ** 0.5"
   ]
  },
  {
   "cell_type": "markdown",
   "id": "d373707b-bded-45bb-888d-87ba28b04a3e",
   "metadata": {},
   "source": [
    "Extremely far away due to the last feature."
   ]
  },
  {
   "cell_type": "code",
   "execution_count": null,
   "id": "f6d4881a-11f8-428a-9024-28bbb359ef54",
   "metadata": {},
   "outputs": [],
   "source": [
    "db.drop(['Customer ID'], axis=1)"
   ]
  },
  {
   "cell_type": "code",
   "execution_count": null,
   "id": "c7fceff5-d93c-4bac-9552-aaef4efce535",
   "metadata": {},
   "outputs": [],
   "source": [
    "price = db['Price']\n",
    "countries = db['Country']\n",
    "label_encoder = LabelEncoder()\n",
    "countries_encoded = label_encoder.fit_transform(countries) + 1 "
   ]
  },
  {
   "cell_type": "code",
   "execution_count": null,
   "id": "15e772a5-9c7e-4517-9fa7-a490d9f59218",
   "metadata": {},
   "outputs": [],
   "source": [
    "country_mapping = {country: i + 1 for i, country in enumerate(sorted(countries.unique()))}\n",
    "countries_encoded = countries.map(country_mapping)"
   ]
  },
  {
   "cell_type": "code",
   "execution_count": null,
   "id": "2b7a397d-77af-4c9c-ab91-a5522b288274",
   "metadata": {},
   "outputs": [],
   "source": [
    "db['countries_encoded'] = countries_encoded"
   ]
  },
  {
   "cell_type": "code",
   "execution_count": null,
   "id": "bf86018b-dceb-4761-a636-8475ac4a21ea",
   "metadata": {},
   "outputs": [],
   "source": [
    "db.head()"
   ]
  },
  {
   "cell_type": "code",
   "execution_count": null,
   "id": "280a151d-a083-4bd7-a98c-f96174d137db",
   "metadata": {},
   "outputs": [],
   "source": [
    "first = [489434,12,2.95, 35]\n",
    "second = [489434,12,6.75, 35]\n",
    "total = 0\n",
    "for i in range(len(first)):\n",
    "    print((first[i]-second[i])**2)\n",
    "    total += (first[i]-second[i])**2\n",
    "total ** 0.5"
   ]
  },
  {
   "cell_type": "markdown",
   "id": "136e6ad0-b25a-45e3-80f2-cad356817a02",
   "metadata": {},
   "source": [
    "Points are now far closer."
   ]
  },
  {
   "cell_type": "markdown",
   "id": "6895a6a9-f634-4c28-a44e-4ab2ff76b112",
   "metadata": {},
   "source": [
    "## How many clusters needed?"
   ]
  },
  {
   "cell_type": "code",
   "execution_count": null,
   "id": "f6a95884-82bc-4ec1-9b67-b3578b78ab7e",
   "metadata": {},
   "outputs": [],
   "source": [
    "db_new = db.drop(['StockCode', 'Description', 'InvoiceDate', 'Country', 'Customer ID'], axis=1)"
   ]
  },
  {
   "cell_type": "code",
   "execution_count": null,
   "id": "2f5e371a-ea6c-44e9-88e7-ab127dce64aa",
   "metadata": {},
   "outputs": [],
   "source": [
    "kmeans = KMeans(n_clusters=3, n_init=10, random_state=42)"
   ]
  },
  {
   "cell_type": "code",
   "execution_count": null,
   "id": "4cd6ab66-55ab-4d61-8c27-659216a03dbf",
   "metadata": {},
   "outputs": [],
   "source": [
    "reshape = np.array([489434, 12, 2.95, 35]).reshape(-1, 1)  # Reshape into a 2D array with a single column\n",
    "\n",
    "# Perform KMeans clustering\n",
    "kmeans = KMeans(n_clusters=3,)  # Example: using 3 clusters\n",
    "cluster_labels = kmeans.fit_predict(reshape)\n",
    "\n",
    "print(cluster_labels)"
   ]
  },
  {
   "cell_type": "code",
   "execution_count": null,
   "id": "7660db42-6404-4571-9f70-1f9af58ef984",
   "metadata": {},
   "outputs": [],
   "source": [
    "db_new"
   ]
  },
  {
   "cell_type": "code",
   "execution_count": null,
   "id": "efa57231-a144-482e-8f47-360a19ef60d4",
   "metadata": {},
   "outputs": [],
   "source": [
    "db['Price'] = pd.to_numeric(db['Price'], errors='coerce')"
   ]
  },
  {
   "cell_type": "code",
   "execution_count": null,
   "id": "6068cb65-dd6f-44ee-b994-9f12dcb7c360",
   "metadata": {},
   "outputs": [],
   "source": [
    "db_new = db_new[pd.to_numeric(db['Invoice'], errors='coerce').notnull()]"
   ]
  },
  {
   "cell_type": "code",
   "execution_count": null,
   "id": "01abc241-fa2b-41be-9675-81cd6a876152",
   "metadata": {},
   "outputs": [],
   "source": [
    "db_new"
   ]
  },
  {
   "cell_type": "code",
   "execution_count": null,
   "id": "5e7f2c47-4f9b-4b73-9b15-3af6da71234d",
   "metadata": {},
   "outputs": [],
   "source": [
    "wcss = []\n",
    "for k in range(2, 10):\n",
    "    kmeans = KMeans(n_clusters=k, n_init=10, random_state=42)\n",
    "    kmeans.fit(db_new)\n",
    "    wcss.append(kmeans.inertia_)\n",
    "print(wcss)"
   ]
  },
  {
   "cell_type": "code",
   "execution_count": null,
   "id": "19aadca5-0608-4fef-be94-8d99ecea520a",
   "metadata": {},
   "outputs": [],
   "source": [
    "plt.plot(range(2,10), wcss);"
   ]
  },
  {
   "cell_type": "markdown",
   "id": "c02ede8b-6e58-4bd9-9d6d-c9449749341f",
   "metadata": {},
   "source": [
    "Biggest change is at 3, this means that 3 clusters would suit this dataframe best."
   ]
  },
  {
   "cell_type": "markdown",
   "id": "32d3646f-c5db-4f76-8342-6c101cecb114",
   "metadata": {},
   "source": [
    "4 and 5 also hold an exaggerated bend."
   ]
  },
  {
   "cell_type": "code",
   "execution_count": null,
   "id": "5d715f74-f20e-43b2-b912-aa7bdf311d68",
   "metadata": {},
   "outputs": [],
   "source": [
    "db_new_df = pd.DataFrame(data=db_new)"
   ]
  },
  {
   "cell_type": "code",
   "execution_count": null,
   "id": "7f3a5044-d054-487f-b152-998770c212ef",
   "metadata": {},
   "outputs": [],
   "source": [
    "scaler = StandardScaler()"
   ]
  },
  {
   "cell_type": "code",
   "execution_count": null,
   "id": "08e2c408-62ad-47a3-bca8-e84cf06239ee",
   "metadata": {},
   "outputs": [],
   "source": [
    "numeric_columns = db_new_df.select_dtypes(include='number').columns\n",
    "db_new_df[numeric_columns] = scaler.fit_transform(db_new_df[numeric_columns])"
   ]
  },
  {
   "cell_type": "code",
   "execution_count": null,
   "id": "fa2c76a9-03a3-471d-97f1-8eabd771e28e",
   "metadata": {},
   "outputs": [],
   "source": [
    "selected_columns = list(db_new_df.columns[1:6]) # Adjust column indices as needed\n",
    "db_new2 = db_new_df[selected_columns]"
   ]
  },
  {
   "cell_type": "code",
   "execution_count": null,
   "id": "a30deb41-7331-4fb0-b82b-6a01af843499",
   "metadata": {},
   "outputs": [],
   "source": [
    "new_df = pd.DataFrame(data=db_new2, columns=selected_columns)"
   ]
  },
  {
   "cell_type": "code",
   "execution_count": null,
   "id": "3c91de95-9c50-4e53-84e5-99c51724d469",
   "metadata": {},
   "outputs": [],
   "source": [
    "new_df"
   ]
  },
  {
   "cell_type": "code",
   "execution_count": null,
   "id": "e0c5b4a9-0d6a-44e4-adb6-130748da4edb",
   "metadata": {},
   "outputs": [],
   "source": [
    "new_df.describe()"
   ]
  },
  {
   "cell_type": "code",
   "execution_count": null,
   "id": "f70332c7-2efc-49c1-9508-5a547b598500",
   "metadata": {},
   "outputs": [],
   "source": [
    "y_pred = kmeans.fit_predict(new_df)"
   ]
  },
  {
   "cell_type": "code",
   "execution_count": null,
   "id": "2f8d3fec-b2f3-4a1c-9d7b-09c483087c6b",
   "metadata": {},
   "outputs": [],
   "source": [
    "kmeans.cluster_centers_"
   ]
  },
  {
   "cell_type": "code",
   "execution_count": null,
   "id": "bb0ec838-cb6c-4d9a-b30f-0aafb899ad41",
   "metadata": {},
   "outputs": [],
   "source": [
    "y_pred==0"
   ]
  },
  {
   "cell_type": "code",
   "execution_count": null,
   "id": "cbdd4f37-66b0-49bc-ae6c-eb42980bb886",
   "metadata": {},
   "outputs": [],
   "source": [
    "new_df[y_pred==0]"
   ]
  },
  {
   "cell_type": "code",
   "execution_count": null,
   "id": "e16282a1-b0f4-4484-9468-6a5359a267c0",
   "metadata": {},
   "outputs": [],
   "source": [
    "new_df.iloc[:,0]"
   ]
  },
  {
   "cell_type": "code",
   "execution_count": null,
   "id": "ac59be6d-3fb2-4da0-bcda-bb45b09d789a",
   "metadata": {},
   "outputs": [],
   "source": [
    "new_df"
   ]
  },
  {
   "cell_type": "code",
   "execution_count": null,
   "id": "430784e9-95d4-4fba-b4a9-e030c5d60809",
   "metadata": {},
   "outputs": [],
   "source": [
    "kmeans = KMeans(n_clusters=3, random_state=42)\n",
    "\n",
    "# Fit the KMeans model to your data\n",
    "kmeans.fit(new_df)\n",
    "\n",
    "# Get the cluster centers\n",
    "cluster_centers = kmeans.cluster_centers_"
   ]
  },
  {
   "cell_type": "code",
   "execution_count": null,
   "id": "724b0b98-37a3-4d71-b86f-f921cf092537",
   "metadata": {},
   "outputs": [],
   "source": [
    "def plotFeatures(col1, col2):\n",
    "    plt.scatter(\n",
    "        new_df[y_pred==0].iloc[:,col1],\n",
    "        new_df[y_pred==0].iloc[:,col2],\n",
    "        s=50,\n",
    "        c='red'\n",
    "    )\n",
    "    plt.scatter(\n",
    "        new_df[y_pred==1].iloc[:,col1],\n",
    "        new_df[y_pred==1].iloc[:,col2],\n",
    "        s=50,\n",
    "        c='blue'\n",
    "    )\n",
    "    plt.scatter(\n",
    "        new_df[y_pred==2].iloc[:,col1],\n",
    "        new_df[y_pred==2].iloc[:,col2],\n",
    "        c='green'\n",
    "    )\n",
    "    plt.scatter(\n",
    "        kmeans.cluster_centers_[:,col1],\n",
    "        kmeans.cluster_centers_[:,col2],\n",
    "        s=200,\n",
    "        c='yellow'\n",
    "    )\n",
    "    xmin, xmax = plt.xlim()  # Get the current limits of the x-axis\n",
    "    plt.xlim(min(xmin, 0), xmax)\n",
    "    \n",
    "    plt.xlabel(x.columns[col1])\n",
    "    plt.ylabel(x.columns[col2])\n",
    "    plt.show();"
   ]
  },
  {
   "cell_type": "code",
   "execution_count": null,
   "id": "785ce56e-f475-4e2e-9fbd-6bf781b6329f",
   "metadata": {},
   "outputs": [],
   "source": [
    "plotFeatures(2, 1)"
   ]
  },
  {
   "cell_type": "code",
   "execution_count": null,
   "id": "70336e7d-d97c-440f-9a73-fe81eabb0280",
   "metadata": {},
   "outputs": [],
   "source": [
    "plotFeatures(0, 2)"
   ]
  },
  {
   "cell_type": "code",
   "execution_count": null,
   "id": "e5acb70a-be90-4e47-b388-b64850250e44",
   "metadata": {},
   "outputs": [],
   "source": [
    "plotFeatures(0, 1)"
   ]
  },
  {
   "cell_type": "markdown",
   "id": "878838e2-1b3d-4d74-b6d3-610dd2793feb",
   "metadata": {},
   "source": [
    "## Silhouette Score"
   ]
  },
  {
   "cell_type": "code",
   "execution_count": null,
   "id": "59a68194-dc38-41c7-abd4-42dfe29372a4",
   "metadata": {},
   "outputs": [],
   "source": [
    "silhouette_score(new_df, y_pred)"
   ]
  },
  {
   "cell_type": "code",
   "execution_count": null,
   "id": "383cc3de-6a7d-4f42-8397-96d22c9755ba",
   "metadata": {},
   "outputs": [],
   "source": [
    "for k in range(2, 10):\n",
    "    kmeans = KMeans(n_clusters=3, random_state=42)\n",
    "    y_pred = kmeans.fit_predict(new_df)\n",
    "    print(f\"The silhouette score for {3} clusters is: {silhouette_score(new_df, y_pred)}\")"
   ]
  },
  {
   "cell_type": "markdown",
   "id": "8f1877d0-3cfb-487d-9519-310a60be954d",
   "metadata": {},
   "source": [
    "Excellant Silhouette score. Showing that the clusters are wll separated from each other as well as how similiar the points are within their own clusters are. The score is between -1 and +1. 0.92 is a great score."
   ]
  },
  {
   "cell_type": "markdown",
   "id": "3c83f625-7551-460a-a884-5bb16e611582",
   "metadata": {},
   "source": [
    "## Market Basket Analysis (MBA)"
   ]
  },
  {
   "cell_type": "code",
   "execution_count": null,
   "id": "45bf7304-1f31-40f3-aa1d-86c72ade2118",
   "metadata": {},
   "outputs": [],
   "source": [
    "from mlxtend.preprocessing import TransactionEncoder\n",
    "from mlxtend.frequent_patterns import apriori, association_rules"
   ]
  },
  {
   "cell_type": "code",
   "execution_count": null,
   "id": "20dcf5e2-e04a-48fc-9620-72f17cc9219d",
   "metadata": {},
   "outputs": [],
   "source": [
    "db.head()"
   ]
  },
  {
   "cell_type": "markdown",
   "id": "d4487e6b-0fc8-464c-a0c4-bd9b707af686",
   "metadata": {},
   "source": [
    "where to sell products:"
   ]
  },
  {
   "cell_type": "code",
   "execution_count": null,
   "id": "5a649257-34a1-40c9-a23d-7aabe25cdc4d",
   "metadata": {},
   "outputs": [],
   "source": [
    "top_items = db['Description'].value_counts()\n",
    "print(top_items)"
   ]
  },
  {
   "cell_type": "code",
   "execution_count": null,
   "id": "f4816e7e-b306-4ea7-b7c4-759294ebd3b0",
   "metadata": {},
   "outputs": [],
   "source": [
    "#pick top 5 items being bought"
   ]
  },
  {
   "cell_type": "code",
   "execution_count": null,
   "id": "8c60dfd3-121d-43bd-b211-1fd03e33b497",
   "metadata": {},
   "outputs": [],
   "source": [
    "te = TransactionEncoder()"
   ]
  },
  {
   "cell_type": "code",
   "execution_count": null,
   "id": "9874b441-6d60-485d-a9d8-17b64ffc73c1",
   "metadata": {},
   "outputs": [],
   "source": [
    "te_array = te.fit(db).transform(db)"
   ]
  },
  {
   "cell_type": "code",
   "execution_count": null,
   "id": "e4c9c456-8843-4985-8f54-94619daa208b",
   "metadata": {},
   "outputs": [],
   "source": [
    "DB = pd.DataFrame(te_array, columns = te.columns_)"
   ]
  },
  {
   "cell_type": "code",
   "execution_count": null,
   "id": "9ab5669f-9a64-4ae4-a99e-16f5638b78de",
   "metadata": {},
   "outputs": [],
   "source": [
    "DB.head()"
   ]
  },
  {
   "cell_type": "code",
   "execution_count": null,
   "id": "7079c5c4-cc8e-4a03-a59f-6668b7cda7d6",
   "metadata": {},
   "outputs": [],
   "source": [
    "frequent_itemsets_ap = apriori(df, min_support = 0.01, use_colnames = True)"
   ]
  }
 ],
 "metadata": {
  "kernelspec": {
   "display_name": "Python 3 (ipykernel)",
   "language": "python",
   "name": "python3"
  },
  "language_info": {
   "codemirror_mode": {
    "name": "ipython",
    "version": 3
   },
   "file_extension": ".py",
   "mimetype": "text/x-python",
   "name": "python",
   "nbconvert_exporter": "python",
   "pygments_lexer": "ipython3",
   "version": "3.9.13"
  }
 },
 "nbformat": 4,
 "nbformat_minor": 5
}
