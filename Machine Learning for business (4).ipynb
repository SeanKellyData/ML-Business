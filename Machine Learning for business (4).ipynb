{
 "cells": [
  {
   "cell_type": "code",
   "execution_count": null,
   "id": "2ae0f5e0",
   "metadata": {},
   "outputs": [],
   "source": []
  },
  {
   "cell_type": "code",
   "execution_count": null,
   "id": "cf3cd6a9",
   "metadata": {},
   "outputs": [],
   "source": []
  },
  {
   "cell_type": "code",
   "execution_count": 612,
   "id": "d6c5a53a",
   "metadata": {},
   "outputs": [],
   "source": [
    "import pandas as pd\n",
    "import seaborn as sns\n",
    "import matplotlib.pyplot as plt\n",
    "import numpy as np\n",
    "import statistics as stats\n",
    "from sklearn.cluster import KMeans\n",
    "from sklearn.preprocessing import StandardScaler, LabelEncoder, OneHotEncoder\n",
    "from sklearn.compose import ColumnTransformer\n",
    "from sklearn.metrics import silhouette_score\n",
    "import warnings\n",
    "\n",
    "warnings.filterwarnings('ignore')"
   ]
  },
  {
   "cell_type": "code",
   "execution_count": 613,
   "id": "08e8c2db-5188-425f-aff3-363be7cea76b",
   "metadata": {},
   "outputs": [],
   "source": [
    "sheet1 = pd.read_excel('data.xlsx', 0)\n",
    "sheet2 = pd.read_excel('data.xlsx', 1)"
   ]
  },
  {
   "cell_type": "code",
   "execution_count": 614,
   "id": "09aff50b-df38-4452-b939-289d7110960a",
   "metadata": {},
   "outputs": [],
   "source": [
    "db = pd.concat([sheet1, sheet2])"
   ]
  },
  {
   "cell_type": "code",
   "execution_count": 615,
   "id": "501cf240",
   "metadata": {},
   "outputs": [],
   "source": [
    "db = pd.read_excel('data.xlsx')\n",
    "db.to_csv('data.csv', index=False)"
   ]
  },
  {
   "cell_type": "code",
   "execution_count": 616,
   "id": "bfabe71a",
   "metadata": {},
   "outputs": [
    {
     "data": {
      "text/html": [
       "<div>\n",
       "<style scoped>\n",
       "    .dataframe tbody tr th:only-of-type {\n",
       "        vertical-align: middle;\n",
       "    }\n",
       "\n",
       "    .dataframe tbody tr th {\n",
       "        vertical-align: top;\n",
       "    }\n",
       "\n",
       "    .dataframe thead th {\n",
       "        text-align: right;\n",
       "    }\n",
       "</style>\n",
       "<table border=\"1\" class=\"dataframe\">\n",
       "  <thead>\n",
       "    <tr style=\"text-align: right;\">\n",
       "      <th></th>\n",
       "      <th>Invoice</th>\n",
       "      <th>StockCode</th>\n",
       "      <th>Description</th>\n",
       "      <th>Quantity</th>\n",
       "      <th>InvoiceDate</th>\n",
       "      <th>Price</th>\n",
       "      <th>Customer ID</th>\n",
       "      <th>Country</th>\n",
       "    </tr>\n",
       "  </thead>\n",
       "  <tbody>\n",
       "    <tr>\n",
       "      <th>0</th>\n",
       "      <td>489434</td>\n",
       "      <td>85048</td>\n",
       "      <td>15CM CHRISTMAS GLASS BALL 20 LIGHTS</td>\n",
       "      <td>12</td>\n",
       "      <td>2009-12-01 07:45:00</td>\n",
       "      <td>6.95</td>\n",
       "      <td>13085.0</td>\n",
       "      <td>United Kingdom</td>\n",
       "    </tr>\n",
       "    <tr>\n",
       "      <th>1</th>\n",
       "      <td>489434</td>\n",
       "      <td>79323P</td>\n",
       "      <td>PINK CHERRY LIGHTS</td>\n",
       "      <td>12</td>\n",
       "      <td>2009-12-01 07:45:00</td>\n",
       "      <td>6.75</td>\n",
       "      <td>13085.0</td>\n",
       "      <td>United Kingdom</td>\n",
       "    </tr>\n",
       "    <tr>\n",
       "      <th>2</th>\n",
       "      <td>489434</td>\n",
       "      <td>79323W</td>\n",
       "      <td>WHITE CHERRY LIGHTS</td>\n",
       "      <td>12</td>\n",
       "      <td>2009-12-01 07:45:00</td>\n",
       "      <td>6.75</td>\n",
       "      <td>13085.0</td>\n",
       "      <td>United Kingdom</td>\n",
       "    </tr>\n",
       "    <tr>\n",
       "      <th>3</th>\n",
       "      <td>489434</td>\n",
       "      <td>22041</td>\n",
       "      <td>RECORD FRAME 7\" SINGLE SIZE</td>\n",
       "      <td>48</td>\n",
       "      <td>2009-12-01 07:45:00</td>\n",
       "      <td>2.10</td>\n",
       "      <td>13085.0</td>\n",
       "      <td>United Kingdom</td>\n",
       "    </tr>\n",
       "    <tr>\n",
       "      <th>4</th>\n",
       "      <td>489434</td>\n",
       "      <td>21232</td>\n",
       "      <td>STRAWBERRY CERAMIC TRINKET BOX</td>\n",
       "      <td>24</td>\n",
       "      <td>2009-12-01 07:45:00</td>\n",
       "      <td>1.25</td>\n",
       "      <td>13085.0</td>\n",
       "      <td>United Kingdom</td>\n",
       "    </tr>\n",
       "  </tbody>\n",
       "</table>\n",
       "</div>"
      ],
      "text/plain": [
       "  Invoice StockCode                          Description  Quantity  \\\n",
       "0  489434     85048  15CM CHRISTMAS GLASS BALL 20 LIGHTS        12   \n",
       "1  489434    79323P                   PINK CHERRY LIGHTS        12   \n",
       "2  489434    79323W                  WHITE CHERRY LIGHTS        12   \n",
       "3  489434     22041         RECORD FRAME 7\" SINGLE SIZE         48   \n",
       "4  489434     21232       STRAWBERRY CERAMIC TRINKET BOX        24   \n",
       "\n",
       "          InvoiceDate  Price  Customer ID         Country  \n",
       "0 2009-12-01 07:45:00   6.95      13085.0  United Kingdom  \n",
       "1 2009-12-01 07:45:00   6.75      13085.0  United Kingdom  \n",
       "2 2009-12-01 07:45:00   6.75      13085.0  United Kingdom  \n",
       "3 2009-12-01 07:45:00   2.10      13085.0  United Kingdom  \n",
       "4 2009-12-01 07:45:00   1.25      13085.0  United Kingdom  "
      ]
     },
     "execution_count": 616,
     "metadata": {},
     "output_type": "execute_result"
    }
   ],
   "source": [
    "db.head()"
   ]
  },
  {
   "cell_type": "code",
   "execution_count": 617,
   "id": "68c1f61f",
   "metadata": {},
   "outputs": [
    {
     "data": {
      "text/html": [
       "<div>\n",
       "<style scoped>\n",
       "    .dataframe tbody tr th:only-of-type {\n",
       "        vertical-align: middle;\n",
       "    }\n",
       "\n",
       "    .dataframe tbody tr th {\n",
       "        vertical-align: top;\n",
       "    }\n",
       "\n",
       "    .dataframe thead th {\n",
       "        text-align: right;\n",
       "    }\n",
       "</style>\n",
       "<table border=\"1\" class=\"dataframe\">\n",
       "  <thead>\n",
       "    <tr style=\"text-align: right;\">\n",
       "      <th></th>\n",
       "      <th>Invoice</th>\n",
       "      <th>StockCode</th>\n",
       "      <th>Description</th>\n",
       "      <th>Quantity</th>\n",
       "      <th>InvoiceDate</th>\n",
       "      <th>Price</th>\n",
       "      <th>Customer ID</th>\n",
       "      <th>Country</th>\n",
       "    </tr>\n",
       "  </thead>\n",
       "  <tbody>\n",
       "    <tr>\n",
       "      <th>525456</th>\n",
       "      <td>538171</td>\n",
       "      <td>22271</td>\n",
       "      <td>FELTCRAFT DOLL ROSIE</td>\n",
       "      <td>2</td>\n",
       "      <td>2010-12-09 20:01:00</td>\n",
       "      <td>2.95</td>\n",
       "      <td>17530.0</td>\n",
       "      <td>United Kingdom</td>\n",
       "    </tr>\n",
       "    <tr>\n",
       "      <th>525457</th>\n",
       "      <td>538171</td>\n",
       "      <td>22750</td>\n",
       "      <td>FELTCRAFT PRINCESS LOLA DOLL</td>\n",
       "      <td>1</td>\n",
       "      <td>2010-12-09 20:01:00</td>\n",
       "      <td>3.75</td>\n",
       "      <td>17530.0</td>\n",
       "      <td>United Kingdom</td>\n",
       "    </tr>\n",
       "    <tr>\n",
       "      <th>525458</th>\n",
       "      <td>538171</td>\n",
       "      <td>22751</td>\n",
       "      <td>FELTCRAFT PRINCESS OLIVIA DOLL</td>\n",
       "      <td>1</td>\n",
       "      <td>2010-12-09 20:01:00</td>\n",
       "      <td>3.75</td>\n",
       "      <td>17530.0</td>\n",
       "      <td>United Kingdom</td>\n",
       "    </tr>\n",
       "    <tr>\n",
       "      <th>525459</th>\n",
       "      <td>538171</td>\n",
       "      <td>20970</td>\n",
       "      <td>PINK FLORAL FELTCRAFT SHOULDER BAG</td>\n",
       "      <td>2</td>\n",
       "      <td>2010-12-09 20:01:00</td>\n",
       "      <td>3.75</td>\n",
       "      <td>17530.0</td>\n",
       "      <td>United Kingdom</td>\n",
       "    </tr>\n",
       "    <tr>\n",
       "      <th>525460</th>\n",
       "      <td>538171</td>\n",
       "      <td>21931</td>\n",
       "      <td>JUMBO STORAGE BAG SUKI</td>\n",
       "      <td>2</td>\n",
       "      <td>2010-12-09 20:01:00</td>\n",
       "      <td>1.95</td>\n",
       "      <td>17530.0</td>\n",
       "      <td>United Kingdom</td>\n",
       "    </tr>\n",
       "  </tbody>\n",
       "</table>\n",
       "</div>"
      ],
      "text/plain": [
       "       Invoice StockCode                         Description  Quantity  \\\n",
       "525456  538171     22271                FELTCRAFT DOLL ROSIE         2   \n",
       "525457  538171     22750        FELTCRAFT PRINCESS LOLA DOLL         1   \n",
       "525458  538171     22751      FELTCRAFT PRINCESS OLIVIA DOLL         1   \n",
       "525459  538171     20970  PINK FLORAL FELTCRAFT SHOULDER BAG         2   \n",
       "525460  538171     21931              JUMBO STORAGE BAG SUKI         2   \n",
       "\n",
       "               InvoiceDate  Price  Customer ID         Country  \n",
       "525456 2010-12-09 20:01:00   2.95      17530.0  United Kingdom  \n",
       "525457 2010-12-09 20:01:00   3.75      17530.0  United Kingdom  \n",
       "525458 2010-12-09 20:01:00   3.75      17530.0  United Kingdom  \n",
       "525459 2010-12-09 20:01:00   3.75      17530.0  United Kingdom  \n",
       "525460 2010-12-09 20:01:00   1.95      17530.0  United Kingdom  "
      ]
     },
     "execution_count": 617,
     "metadata": {},
     "output_type": "execute_result"
    }
   ],
   "source": [
    "db.tail()"
   ]
  },
  {
   "cell_type": "code",
   "execution_count": 618,
   "id": "74e46af9",
   "metadata": {},
   "outputs": [
    {
     "data": {
      "text/plain": [
       "(525461, 8)"
      ]
     },
     "execution_count": 618,
     "metadata": {},
     "output_type": "execute_result"
    }
   ],
   "source": [
    "db.shape"
   ]
  },
  {
   "cell_type": "code",
   "execution_count": 619,
   "id": "07276954",
   "metadata": {},
   "outputs": [
    {
     "data": {
      "text/plain": [
       "Invoice                object\n",
       "StockCode              object\n",
       "Description            object\n",
       "Quantity                int64\n",
       "InvoiceDate    datetime64[ns]\n",
       "Price                 float64\n",
       "Customer ID           float64\n",
       "Country                object\n",
       "dtype: object"
      ]
     },
     "execution_count": 619,
     "metadata": {},
     "output_type": "execute_result"
    }
   ],
   "source": [
    "db.dtypes"
   ]
  },
  {
   "cell_type": "code",
   "execution_count": 620,
   "id": "ae265bc9",
   "metadata": {},
   "outputs": [
    {
     "data": {
      "text/plain": [
       "Invoice             0\n",
       "StockCode           0\n",
       "Description      2928\n",
       "Quantity            0\n",
       "InvoiceDate         0\n",
       "Price               0\n",
       "Customer ID    107927\n",
       "Country             0\n",
       "dtype: int64"
      ]
     },
     "execution_count": 620,
     "metadata": {},
     "output_type": "execute_result"
    }
   ],
   "source": [
    "db.isnull().sum()"
   ]
  },
  {
   "cell_type": "code",
   "execution_count": 621,
   "id": "df103a38",
   "metadata": {},
   "outputs": [
    {
     "data": {
      "text/plain": [
       "0         False\n",
       "1         False\n",
       "2         False\n",
       "3         False\n",
       "4         False\n",
       "          ...  \n",
       "525456    False\n",
       "525457    False\n",
       "525458    False\n",
       "525459    False\n",
       "525460    False\n",
       "Length: 525461, dtype: bool"
      ]
     },
     "execution_count": 621,
     "metadata": {},
     "output_type": "execute_result"
    }
   ],
   "source": [
    "db.duplicated()"
   ]
  },
  {
   "cell_type": "code",
   "execution_count": 622,
   "id": "5c7159b1",
   "metadata": {},
   "outputs": [
    {
     "name": "stdout",
     "output_type": "stream",
     "text": [
      "<class 'pandas.core.frame.DataFrame'>\n",
      "RangeIndex: 525461 entries, 0 to 525460\n",
      "Data columns (total 8 columns):\n",
      " #   Column       Non-Null Count   Dtype         \n",
      "---  ------       --------------   -----         \n",
      " 0   Invoice      525461 non-null  object        \n",
      " 1   StockCode    525461 non-null  object        \n",
      " 2   Description  522533 non-null  object        \n",
      " 3   Quantity     525461 non-null  int64         \n",
      " 4   InvoiceDate  525461 non-null  datetime64[ns]\n",
      " 5   Price        525461 non-null  float64       \n",
      " 6   Customer ID  417534 non-null  float64       \n",
      " 7   Country      525461 non-null  object        \n",
      "dtypes: datetime64[ns](1), float64(2), int64(1), object(4)\n",
      "memory usage: 32.1+ MB\n"
     ]
    }
   ],
   "source": [
    "db.info()"
   ]
  },
  {
   "cell_type": "code",
   "execution_count": 623,
   "id": "41e6e5a4",
   "metadata": {},
   "outputs": [],
   "source": [
    "db.dropna(inplace=True)"
   ]
  },
  {
   "cell_type": "code",
   "execution_count": 624,
   "id": "7f97d45f",
   "metadata": {},
   "outputs": [
    {
     "data": {
      "text/plain": [
       "(417534, 8)"
      ]
     },
     "execution_count": 624,
     "metadata": {},
     "output_type": "execute_result"
    }
   ],
   "source": [
    "db.shape"
   ]
  },
  {
   "cell_type": "code",
   "execution_count": 625,
   "id": "1b8150aa",
   "metadata": {},
   "outputs": [
    {
     "data": {
      "text/plain": [
       "Invoice        23587\n",
       "StockCode       4031\n",
       "Description     4459\n",
       "Quantity         500\n",
       "InvoiceDate    21786\n",
       "Price            664\n",
       "Customer ID     4383\n",
       "Country           37\n",
       "dtype: int64"
      ]
     },
     "execution_count": 625,
     "metadata": {},
     "output_type": "execute_result"
    }
   ],
   "source": [
    "db.nunique()"
   ]
  },
  {
   "cell_type": "code",
   "execution_count": 626,
   "id": "0d03dd33",
   "metadata": {},
   "outputs": [],
   "source": [
    "#There is no target varibale for clustering\n",
    "#Dropped non values as there is a sufficient amount of data to work with"
   ]
  },
  {
   "cell_type": "code",
   "execution_count": 627,
   "id": "3337a827-3718-43dc-90dd-f4b806d2756c",
   "metadata": {},
   "outputs": [
    {
     "name": "stdout",
     "output_type": "stream",
     "text": [
      "0\n",
      "0\n",
      "14.44\n",
      "19758025.0\n"
     ]
    },
    {
     "data": {
      "text/plain": [
       "4445.001624296667"
      ]
     },
     "execution_count": 627,
     "metadata": {},
     "output_type": "execute_result"
    }
   ],
   "source": [
    "first = [489434,12,2.95, 17530.0]\n",
    "second = [489434,12,6.75, 13085.0]\n",
    "total = 0\n",
    "for i in range(len(first)):\n",
    "    print((first[i]-second[i])**2)\n",
    "    total += (first[i]-second[i])**2\n",
    "total ** 0.5"
   ]
  },
  {
   "cell_type": "markdown",
   "id": "d373707b-bded-45bb-888d-87ba28b04a3e",
   "metadata": {},
   "source": [
    "Extremely far away due to the last feature."
   ]
  },
  {
   "cell_type": "code",
   "execution_count": 628,
   "id": "f6d4881a-11f8-428a-9024-28bbb359ef54",
   "metadata": {},
   "outputs": [
    {
     "data": {
      "text/html": [
       "<div>\n",
       "<style scoped>\n",
       "    .dataframe tbody tr th:only-of-type {\n",
       "        vertical-align: middle;\n",
       "    }\n",
       "\n",
       "    .dataframe tbody tr th {\n",
       "        vertical-align: top;\n",
       "    }\n",
       "\n",
       "    .dataframe thead th {\n",
       "        text-align: right;\n",
       "    }\n",
       "</style>\n",
       "<table border=\"1\" class=\"dataframe\">\n",
       "  <thead>\n",
       "    <tr style=\"text-align: right;\">\n",
       "      <th></th>\n",
       "      <th>Invoice</th>\n",
       "      <th>StockCode</th>\n",
       "      <th>Description</th>\n",
       "      <th>Quantity</th>\n",
       "      <th>InvoiceDate</th>\n",
       "      <th>Price</th>\n",
       "      <th>Country</th>\n",
       "    </tr>\n",
       "  </thead>\n",
       "  <tbody>\n",
       "    <tr>\n",
       "      <th>0</th>\n",
       "      <td>489434</td>\n",
       "      <td>85048</td>\n",
       "      <td>15CM CHRISTMAS GLASS BALL 20 LIGHTS</td>\n",
       "      <td>12</td>\n",
       "      <td>2009-12-01 07:45:00</td>\n",
       "      <td>6.95</td>\n",
       "      <td>United Kingdom</td>\n",
       "    </tr>\n",
       "    <tr>\n",
       "      <th>1</th>\n",
       "      <td>489434</td>\n",
       "      <td>79323P</td>\n",
       "      <td>PINK CHERRY LIGHTS</td>\n",
       "      <td>12</td>\n",
       "      <td>2009-12-01 07:45:00</td>\n",
       "      <td>6.75</td>\n",
       "      <td>United Kingdom</td>\n",
       "    </tr>\n",
       "    <tr>\n",
       "      <th>2</th>\n",
       "      <td>489434</td>\n",
       "      <td>79323W</td>\n",
       "      <td>WHITE CHERRY LIGHTS</td>\n",
       "      <td>12</td>\n",
       "      <td>2009-12-01 07:45:00</td>\n",
       "      <td>6.75</td>\n",
       "      <td>United Kingdom</td>\n",
       "    </tr>\n",
       "    <tr>\n",
       "      <th>3</th>\n",
       "      <td>489434</td>\n",
       "      <td>22041</td>\n",
       "      <td>RECORD FRAME 7\" SINGLE SIZE</td>\n",
       "      <td>48</td>\n",
       "      <td>2009-12-01 07:45:00</td>\n",
       "      <td>2.10</td>\n",
       "      <td>United Kingdom</td>\n",
       "    </tr>\n",
       "    <tr>\n",
       "      <th>4</th>\n",
       "      <td>489434</td>\n",
       "      <td>21232</td>\n",
       "      <td>STRAWBERRY CERAMIC TRINKET BOX</td>\n",
       "      <td>24</td>\n",
       "      <td>2009-12-01 07:45:00</td>\n",
       "      <td>1.25</td>\n",
       "      <td>United Kingdom</td>\n",
       "    </tr>\n",
       "    <tr>\n",
       "      <th>...</th>\n",
       "      <td>...</td>\n",
       "      <td>...</td>\n",
       "      <td>...</td>\n",
       "      <td>...</td>\n",
       "      <td>...</td>\n",
       "      <td>...</td>\n",
       "      <td>...</td>\n",
       "    </tr>\n",
       "    <tr>\n",
       "      <th>525456</th>\n",
       "      <td>538171</td>\n",
       "      <td>22271</td>\n",
       "      <td>FELTCRAFT DOLL ROSIE</td>\n",
       "      <td>2</td>\n",
       "      <td>2010-12-09 20:01:00</td>\n",
       "      <td>2.95</td>\n",
       "      <td>United Kingdom</td>\n",
       "    </tr>\n",
       "    <tr>\n",
       "      <th>525457</th>\n",
       "      <td>538171</td>\n",
       "      <td>22750</td>\n",
       "      <td>FELTCRAFT PRINCESS LOLA DOLL</td>\n",
       "      <td>1</td>\n",
       "      <td>2010-12-09 20:01:00</td>\n",
       "      <td>3.75</td>\n",
       "      <td>United Kingdom</td>\n",
       "    </tr>\n",
       "    <tr>\n",
       "      <th>525458</th>\n",
       "      <td>538171</td>\n",
       "      <td>22751</td>\n",
       "      <td>FELTCRAFT PRINCESS OLIVIA DOLL</td>\n",
       "      <td>1</td>\n",
       "      <td>2010-12-09 20:01:00</td>\n",
       "      <td>3.75</td>\n",
       "      <td>United Kingdom</td>\n",
       "    </tr>\n",
       "    <tr>\n",
       "      <th>525459</th>\n",
       "      <td>538171</td>\n",
       "      <td>20970</td>\n",
       "      <td>PINK FLORAL FELTCRAFT SHOULDER BAG</td>\n",
       "      <td>2</td>\n",
       "      <td>2010-12-09 20:01:00</td>\n",
       "      <td>3.75</td>\n",
       "      <td>United Kingdom</td>\n",
       "    </tr>\n",
       "    <tr>\n",
       "      <th>525460</th>\n",
       "      <td>538171</td>\n",
       "      <td>21931</td>\n",
       "      <td>JUMBO STORAGE BAG SUKI</td>\n",
       "      <td>2</td>\n",
       "      <td>2010-12-09 20:01:00</td>\n",
       "      <td>1.95</td>\n",
       "      <td>United Kingdom</td>\n",
       "    </tr>\n",
       "  </tbody>\n",
       "</table>\n",
       "<p>417534 rows × 7 columns</p>\n",
       "</div>"
      ],
      "text/plain": [
       "       Invoice StockCode                          Description  Quantity  \\\n",
       "0       489434     85048  15CM CHRISTMAS GLASS BALL 20 LIGHTS        12   \n",
       "1       489434    79323P                   PINK CHERRY LIGHTS        12   \n",
       "2       489434    79323W                  WHITE CHERRY LIGHTS        12   \n",
       "3       489434     22041         RECORD FRAME 7\" SINGLE SIZE         48   \n",
       "4       489434     21232       STRAWBERRY CERAMIC TRINKET BOX        24   \n",
       "...        ...       ...                                  ...       ...   \n",
       "525456  538171     22271                 FELTCRAFT DOLL ROSIE         2   \n",
       "525457  538171     22750         FELTCRAFT PRINCESS LOLA DOLL         1   \n",
       "525458  538171     22751       FELTCRAFT PRINCESS OLIVIA DOLL         1   \n",
       "525459  538171     20970   PINK FLORAL FELTCRAFT SHOULDER BAG         2   \n",
       "525460  538171     21931               JUMBO STORAGE BAG SUKI         2   \n",
       "\n",
       "               InvoiceDate  Price         Country  \n",
       "0      2009-12-01 07:45:00   6.95  United Kingdom  \n",
       "1      2009-12-01 07:45:00   6.75  United Kingdom  \n",
       "2      2009-12-01 07:45:00   6.75  United Kingdom  \n",
       "3      2009-12-01 07:45:00   2.10  United Kingdom  \n",
       "4      2009-12-01 07:45:00   1.25  United Kingdom  \n",
       "...                    ...    ...             ...  \n",
       "525456 2010-12-09 20:01:00   2.95  United Kingdom  \n",
       "525457 2010-12-09 20:01:00   3.75  United Kingdom  \n",
       "525458 2010-12-09 20:01:00   3.75  United Kingdom  \n",
       "525459 2010-12-09 20:01:00   3.75  United Kingdom  \n",
       "525460 2010-12-09 20:01:00   1.95  United Kingdom  \n",
       "\n",
       "[417534 rows x 7 columns]"
      ]
     },
     "execution_count": 628,
     "metadata": {},
     "output_type": "execute_result"
    }
   ],
   "source": [
    "db.drop(['Customer ID'], axis=1)"
   ]
  },
  {
   "cell_type": "code",
   "execution_count": 629,
   "id": "c7fceff5-d93c-4bac-9552-aaef4efce535",
   "metadata": {},
   "outputs": [],
   "source": [
    "price = db['Price']\n",
    "countries = db['Country']\n",
    "label_encoder = LabelEncoder()\n",
    "countries_encoded = label_encoder.fit_transform(countries) + 1 "
   ]
  },
  {
   "cell_type": "code",
   "execution_count": 630,
   "id": "15e772a5-9c7e-4517-9fa7-a490d9f59218",
   "metadata": {},
   "outputs": [],
   "source": [
    "country_mapping = {country: i + 1 for i, country in enumerate(sorted(countries.unique()))}\n",
    "countries_encoded = countries.map(country_mapping)"
   ]
  },
  {
   "cell_type": "code",
   "execution_count": 631,
   "id": "2b7a397d-77af-4c9c-ab91-a5522b288274",
   "metadata": {},
   "outputs": [],
   "source": [
    "db['countries_encoded'] = countries_encoded"
   ]
  },
  {
   "cell_type": "code",
   "execution_count": 632,
   "id": "bf86018b-dceb-4761-a636-8475ac4a21ea",
   "metadata": {},
   "outputs": [
    {
     "data": {
      "text/html": [
       "<div>\n",
       "<style scoped>\n",
       "    .dataframe tbody tr th:only-of-type {\n",
       "        vertical-align: middle;\n",
       "    }\n",
       "\n",
       "    .dataframe tbody tr th {\n",
       "        vertical-align: top;\n",
       "    }\n",
       "\n",
       "    .dataframe thead th {\n",
       "        text-align: right;\n",
       "    }\n",
       "</style>\n",
       "<table border=\"1\" class=\"dataframe\">\n",
       "  <thead>\n",
       "    <tr style=\"text-align: right;\">\n",
       "      <th></th>\n",
       "      <th>Invoice</th>\n",
       "      <th>StockCode</th>\n",
       "      <th>Description</th>\n",
       "      <th>Quantity</th>\n",
       "      <th>InvoiceDate</th>\n",
       "      <th>Price</th>\n",
       "      <th>Customer ID</th>\n",
       "      <th>Country</th>\n",
       "      <th>countries_encoded</th>\n",
       "    </tr>\n",
       "  </thead>\n",
       "  <tbody>\n",
       "    <tr>\n",
       "      <th>0</th>\n",
       "      <td>489434</td>\n",
       "      <td>85048</td>\n",
       "      <td>15CM CHRISTMAS GLASS BALL 20 LIGHTS</td>\n",
       "      <td>12</td>\n",
       "      <td>2009-12-01 07:45:00</td>\n",
       "      <td>6.95</td>\n",
       "      <td>13085.0</td>\n",
       "      <td>United Kingdom</td>\n",
       "      <td>35</td>\n",
       "    </tr>\n",
       "    <tr>\n",
       "      <th>1</th>\n",
       "      <td>489434</td>\n",
       "      <td>79323P</td>\n",
       "      <td>PINK CHERRY LIGHTS</td>\n",
       "      <td>12</td>\n",
       "      <td>2009-12-01 07:45:00</td>\n",
       "      <td>6.75</td>\n",
       "      <td>13085.0</td>\n",
       "      <td>United Kingdom</td>\n",
       "      <td>35</td>\n",
       "    </tr>\n",
       "    <tr>\n",
       "      <th>2</th>\n",
       "      <td>489434</td>\n",
       "      <td>79323W</td>\n",
       "      <td>WHITE CHERRY LIGHTS</td>\n",
       "      <td>12</td>\n",
       "      <td>2009-12-01 07:45:00</td>\n",
       "      <td>6.75</td>\n",
       "      <td>13085.0</td>\n",
       "      <td>United Kingdom</td>\n",
       "      <td>35</td>\n",
       "    </tr>\n",
       "    <tr>\n",
       "      <th>3</th>\n",
       "      <td>489434</td>\n",
       "      <td>22041</td>\n",
       "      <td>RECORD FRAME 7\" SINGLE SIZE</td>\n",
       "      <td>48</td>\n",
       "      <td>2009-12-01 07:45:00</td>\n",
       "      <td>2.10</td>\n",
       "      <td>13085.0</td>\n",
       "      <td>United Kingdom</td>\n",
       "      <td>35</td>\n",
       "    </tr>\n",
       "    <tr>\n",
       "      <th>4</th>\n",
       "      <td>489434</td>\n",
       "      <td>21232</td>\n",
       "      <td>STRAWBERRY CERAMIC TRINKET BOX</td>\n",
       "      <td>24</td>\n",
       "      <td>2009-12-01 07:45:00</td>\n",
       "      <td>1.25</td>\n",
       "      <td>13085.0</td>\n",
       "      <td>United Kingdom</td>\n",
       "      <td>35</td>\n",
       "    </tr>\n",
       "  </tbody>\n",
       "</table>\n",
       "</div>"
      ],
      "text/plain": [
       "  Invoice StockCode                          Description  Quantity  \\\n",
       "0  489434     85048  15CM CHRISTMAS GLASS BALL 20 LIGHTS        12   \n",
       "1  489434    79323P                   PINK CHERRY LIGHTS        12   \n",
       "2  489434    79323W                  WHITE CHERRY LIGHTS        12   \n",
       "3  489434     22041         RECORD FRAME 7\" SINGLE SIZE         48   \n",
       "4  489434     21232       STRAWBERRY CERAMIC TRINKET BOX        24   \n",
       "\n",
       "          InvoiceDate  Price  Customer ID         Country  countries_encoded  \n",
       "0 2009-12-01 07:45:00   6.95      13085.0  United Kingdom                 35  \n",
       "1 2009-12-01 07:45:00   6.75      13085.0  United Kingdom                 35  \n",
       "2 2009-12-01 07:45:00   6.75      13085.0  United Kingdom                 35  \n",
       "3 2009-12-01 07:45:00   2.10      13085.0  United Kingdom                 35  \n",
       "4 2009-12-01 07:45:00   1.25      13085.0  United Kingdom                 35  "
      ]
     },
     "execution_count": 632,
     "metadata": {},
     "output_type": "execute_result"
    }
   ],
   "source": [
    "db.head()"
   ]
  },
  {
   "cell_type": "code",
   "execution_count": 633,
   "id": "280a151d-a083-4bd7-a98c-f96174d137db",
   "metadata": {},
   "outputs": [
    {
     "name": "stdout",
     "output_type": "stream",
     "text": [
      "0\n",
      "0\n",
      "14.44\n",
      "0\n"
     ]
    },
    {
     "data": {
      "text/plain": [
       "3.8"
      ]
     },
     "execution_count": 633,
     "metadata": {},
     "output_type": "execute_result"
    }
   ],
   "source": [
    "first = [489434,12,2.95, 35]\n",
    "second = [489434,12,6.75, 35]\n",
    "total = 0\n",
    "for i in range(len(first)):\n",
    "    print((first[i]-second[i])**2)\n",
    "    total += (first[i]-second[i])**2\n",
    "total ** 0.5"
   ]
  },
  {
   "cell_type": "markdown",
   "id": "136e6ad0-b25a-45e3-80f2-cad356817a02",
   "metadata": {},
   "source": [
    "Points are now far closer."
   ]
  },
  {
   "cell_type": "markdown",
   "id": "6895a6a9-f634-4c28-a44e-4ab2ff76b112",
   "metadata": {},
   "source": [
    "## How many clusters needed?"
   ]
  },
  {
   "cell_type": "code",
   "execution_count": 634,
   "id": "f6a95884-82bc-4ec1-9b67-b3578b78ab7e",
   "metadata": {},
   "outputs": [],
   "source": [
    "db_new = db.drop(['StockCode', 'Description', 'InvoiceDate', 'Country', 'Customer ID'], axis=1)"
   ]
  },
  {
   "cell_type": "code",
   "execution_count": 635,
   "id": "2f5e371a-ea6c-44e9-88e7-ab127dce64aa",
   "metadata": {},
   "outputs": [],
   "source": [
    "kmeans = KMeans(n_clusters=3, n_init=10, random_state=42)"
   ]
  },
  {
   "cell_type": "code",
   "execution_count": 636,
   "id": "4cd6ab66-55ab-4d61-8c27-659216a03dbf",
   "metadata": {},
   "outputs": [
    {
     "name": "stdout",
     "output_type": "stream",
     "text": [
      "[1 0 0 2]\n"
     ]
    }
   ],
   "source": [
    "reshape = np.array([489434, 12, 2.95, 35]).reshape(-1, 1)  # Reshape into a 2D array with a single column\n",
    "\n",
    "# Perform KMeans clustering\n",
    "kmeans = KMeans(n_clusters=3,)  # Example: using 3 clusters\n",
    "cluster_labels = kmeans.fit_predict(reshape)\n",
    "\n",
    "print(cluster_labels)"
   ]
  },
  {
   "cell_type": "code",
   "execution_count": 637,
   "id": "7660db42-6404-4571-9f70-1f9af58ef984",
   "metadata": {},
   "outputs": [
    {
     "data": {
      "text/html": [
       "<div>\n",
       "<style scoped>\n",
       "    .dataframe tbody tr th:only-of-type {\n",
       "        vertical-align: middle;\n",
       "    }\n",
       "\n",
       "    .dataframe tbody tr th {\n",
       "        vertical-align: top;\n",
       "    }\n",
       "\n",
       "    .dataframe thead th {\n",
       "        text-align: right;\n",
       "    }\n",
       "</style>\n",
       "<table border=\"1\" class=\"dataframe\">\n",
       "  <thead>\n",
       "    <tr style=\"text-align: right;\">\n",
       "      <th></th>\n",
       "      <th>Invoice</th>\n",
       "      <th>Quantity</th>\n",
       "      <th>Price</th>\n",
       "      <th>countries_encoded</th>\n",
       "    </tr>\n",
       "  </thead>\n",
       "  <tbody>\n",
       "    <tr>\n",
       "      <th>0</th>\n",
       "      <td>489434</td>\n",
       "      <td>12</td>\n",
       "      <td>6.95</td>\n",
       "      <td>35</td>\n",
       "    </tr>\n",
       "    <tr>\n",
       "      <th>1</th>\n",
       "      <td>489434</td>\n",
       "      <td>12</td>\n",
       "      <td>6.75</td>\n",
       "      <td>35</td>\n",
       "    </tr>\n",
       "    <tr>\n",
       "      <th>2</th>\n",
       "      <td>489434</td>\n",
       "      <td>12</td>\n",
       "      <td>6.75</td>\n",
       "      <td>35</td>\n",
       "    </tr>\n",
       "    <tr>\n",
       "      <th>3</th>\n",
       "      <td>489434</td>\n",
       "      <td>48</td>\n",
       "      <td>2.10</td>\n",
       "      <td>35</td>\n",
       "    </tr>\n",
       "    <tr>\n",
       "      <th>4</th>\n",
       "      <td>489434</td>\n",
       "      <td>24</td>\n",
       "      <td>1.25</td>\n",
       "      <td>35</td>\n",
       "    </tr>\n",
       "    <tr>\n",
       "      <th>...</th>\n",
       "      <td>...</td>\n",
       "      <td>...</td>\n",
       "      <td>...</td>\n",
       "      <td>...</td>\n",
       "    </tr>\n",
       "    <tr>\n",
       "      <th>525456</th>\n",
       "      <td>538171</td>\n",
       "      <td>2</td>\n",
       "      <td>2.95</td>\n",
       "      <td>35</td>\n",
       "    </tr>\n",
       "    <tr>\n",
       "      <th>525457</th>\n",
       "      <td>538171</td>\n",
       "      <td>1</td>\n",
       "      <td>3.75</td>\n",
       "      <td>35</td>\n",
       "    </tr>\n",
       "    <tr>\n",
       "      <th>525458</th>\n",
       "      <td>538171</td>\n",
       "      <td>1</td>\n",
       "      <td>3.75</td>\n",
       "      <td>35</td>\n",
       "    </tr>\n",
       "    <tr>\n",
       "      <th>525459</th>\n",
       "      <td>538171</td>\n",
       "      <td>2</td>\n",
       "      <td>3.75</td>\n",
       "      <td>35</td>\n",
       "    </tr>\n",
       "    <tr>\n",
       "      <th>525460</th>\n",
       "      <td>538171</td>\n",
       "      <td>2</td>\n",
       "      <td>1.95</td>\n",
       "      <td>35</td>\n",
       "    </tr>\n",
       "  </tbody>\n",
       "</table>\n",
       "<p>417534 rows × 4 columns</p>\n",
       "</div>"
      ],
      "text/plain": [
       "       Invoice  Quantity  Price  countries_encoded\n",
       "0       489434        12   6.95                 35\n",
       "1       489434        12   6.75                 35\n",
       "2       489434        12   6.75                 35\n",
       "3       489434        48   2.10                 35\n",
       "4       489434        24   1.25                 35\n",
       "...        ...       ...    ...                ...\n",
       "525456  538171         2   2.95                 35\n",
       "525457  538171         1   3.75                 35\n",
       "525458  538171         1   3.75                 35\n",
       "525459  538171         2   3.75                 35\n",
       "525460  538171         2   1.95                 35\n",
       "\n",
       "[417534 rows x 4 columns]"
      ]
     },
     "execution_count": 637,
     "metadata": {},
     "output_type": "execute_result"
    }
   ],
   "source": [
    "db_new"
   ]
  },
  {
   "cell_type": "code",
   "execution_count": 638,
   "id": "efa57231-a144-482e-8f47-360a19ef60d4",
   "metadata": {},
   "outputs": [],
   "source": [
    "db['Price'] = pd.to_numeric(db['Price'], errors='coerce')"
   ]
  },
  {
   "cell_type": "code",
   "execution_count": 639,
   "id": "6068cb65-dd6f-44ee-b994-9f12dcb7c360",
   "metadata": {},
   "outputs": [],
   "source": [
    "db_new = db_new[pd.to_numeric(db['Invoice'], errors='coerce').notnull()]"
   ]
  },
  {
   "cell_type": "code",
   "execution_count": 640,
   "id": "01abc241-fa2b-41be-9675-81cd6a876152",
   "metadata": {},
   "outputs": [
    {
     "data": {
      "text/html": [
       "<div>\n",
       "<style scoped>\n",
       "    .dataframe tbody tr th:only-of-type {\n",
       "        vertical-align: middle;\n",
       "    }\n",
       "\n",
       "    .dataframe tbody tr th {\n",
       "        vertical-align: top;\n",
       "    }\n",
       "\n",
       "    .dataframe thead th {\n",
       "        text-align: right;\n",
       "    }\n",
       "</style>\n",
       "<table border=\"1\" class=\"dataframe\">\n",
       "  <thead>\n",
       "    <tr style=\"text-align: right;\">\n",
       "      <th></th>\n",
       "      <th>Invoice</th>\n",
       "      <th>Quantity</th>\n",
       "      <th>Price</th>\n",
       "      <th>countries_encoded</th>\n",
       "    </tr>\n",
       "  </thead>\n",
       "  <tbody>\n",
       "    <tr>\n",
       "      <th>0</th>\n",
       "      <td>489434</td>\n",
       "      <td>12</td>\n",
       "      <td>6.95</td>\n",
       "      <td>35</td>\n",
       "    </tr>\n",
       "    <tr>\n",
       "      <th>1</th>\n",
       "      <td>489434</td>\n",
       "      <td>12</td>\n",
       "      <td>6.75</td>\n",
       "      <td>35</td>\n",
       "    </tr>\n",
       "    <tr>\n",
       "      <th>2</th>\n",
       "      <td>489434</td>\n",
       "      <td>12</td>\n",
       "      <td>6.75</td>\n",
       "      <td>35</td>\n",
       "    </tr>\n",
       "    <tr>\n",
       "      <th>3</th>\n",
       "      <td>489434</td>\n",
       "      <td>48</td>\n",
       "      <td>2.10</td>\n",
       "      <td>35</td>\n",
       "    </tr>\n",
       "    <tr>\n",
       "      <th>4</th>\n",
       "      <td>489434</td>\n",
       "      <td>24</td>\n",
       "      <td>1.25</td>\n",
       "      <td>35</td>\n",
       "    </tr>\n",
       "    <tr>\n",
       "      <th>...</th>\n",
       "      <td>...</td>\n",
       "      <td>...</td>\n",
       "      <td>...</td>\n",
       "      <td>...</td>\n",
       "    </tr>\n",
       "    <tr>\n",
       "      <th>525456</th>\n",
       "      <td>538171</td>\n",
       "      <td>2</td>\n",
       "      <td>2.95</td>\n",
       "      <td>35</td>\n",
       "    </tr>\n",
       "    <tr>\n",
       "      <th>525457</th>\n",
       "      <td>538171</td>\n",
       "      <td>1</td>\n",
       "      <td>3.75</td>\n",
       "      <td>35</td>\n",
       "    </tr>\n",
       "    <tr>\n",
       "      <th>525458</th>\n",
       "      <td>538171</td>\n",
       "      <td>1</td>\n",
       "      <td>3.75</td>\n",
       "      <td>35</td>\n",
       "    </tr>\n",
       "    <tr>\n",
       "      <th>525459</th>\n",
       "      <td>538171</td>\n",
       "      <td>2</td>\n",
       "      <td>3.75</td>\n",
       "      <td>35</td>\n",
       "    </tr>\n",
       "    <tr>\n",
       "      <th>525460</th>\n",
       "      <td>538171</td>\n",
       "      <td>2</td>\n",
       "      <td>1.95</td>\n",
       "      <td>35</td>\n",
       "    </tr>\n",
       "  </tbody>\n",
       "</table>\n",
       "<p>407695 rows × 4 columns</p>\n",
       "</div>"
      ],
      "text/plain": [
       "       Invoice  Quantity  Price  countries_encoded\n",
       "0       489434        12   6.95                 35\n",
       "1       489434        12   6.75                 35\n",
       "2       489434        12   6.75                 35\n",
       "3       489434        48   2.10                 35\n",
       "4       489434        24   1.25                 35\n",
       "...        ...       ...    ...                ...\n",
       "525456  538171         2   2.95                 35\n",
       "525457  538171         1   3.75                 35\n",
       "525458  538171         1   3.75                 35\n",
       "525459  538171         2   3.75                 35\n",
       "525460  538171         2   1.95                 35\n",
       "\n",
       "[407695 rows x 4 columns]"
      ]
     },
     "execution_count": 640,
     "metadata": {},
     "output_type": "execute_result"
    }
   ],
   "source": [
    "db_new"
   ]
  },
  {
   "cell_type": "code",
   "execution_count": 641,
   "id": "5e7f2c47-4f9b-4b73-9b15-3af6da71234d",
   "metadata": {},
   "outputs": [
    {
     "name": "stdout",
     "output_type": "stream",
     "text": [
      "[19724289018549.0, 9042867319466.754, 5156571191421.281, 3165748005331.1265, 2231091814848.6094, 1655594938295.636, 1256892078042.2795, 999878770129.0573]\n"
     ]
    }
   ],
   "source": [
    "wcss = []\n",
    "for k in range(2, 10):\n",
    "    kmeans = KMeans(n_clusters=k, n_init=10, random_state=42)\n",
    "    kmeans.fit(db_new)\n",
    "    wcss.append(kmeans.inertia_)\n",
    "print(wcss)"
   ]
  },
  {
   "cell_type": "code",
   "execution_count": 642,
   "id": "19aadca5-0608-4fef-be94-8d99ecea520a",
   "metadata": {},
   "outputs": [
    {
     "data": {
      "image/png": "[encoded data removed]",
      "text/plain": [
       "<Figure size 640x480 with 1 Axes>"
      ]
     },
     "metadata": {},
     "output_type": "display_data"
    }
   ],
   "source": [
    "plt.plot(range(2,10), wcss);"
   ]
  },
  {
   "cell_type": "markdown",
   "id": "c02ede8b-6e58-4bd9-9d6d-c9449749341f",
   "metadata": {},
   "source": [
    "Biggest change is at 3, this means that 3 clusters would suit this dataframe best."
   ]
  },
  {
   "cell_type": "markdown",
   "id": "32d3646f-c5db-4f76-8342-6c101cecb114",
   "metadata": {},
   "source": [
    "4 and 5 also hold an exaggerated bend."
   ]
  },
  {
   "cell_type": "code",
   "execution_count": 643,
   "id": "5d715f74-f20e-43b2-b912-aa7bdf311d68",
   "metadata": {},
   "outputs": [],
   "source": [
    "db_new_df = pd.DataFrame(data=db_new)"
   ]
  },
  {
   "cell_type": "code",
   "execution_count": 644,
   "id": "7f3a5044-d054-487f-b152-998770c212ef",
   "metadata": {},
   "outputs": [],
   "source": [
    "scaler = StandardScaler()"
   ]
  },
  {
   "cell_type": "code",
   "execution_count": 645,
   "id": "08e2c408-62ad-47a3-bca8-e84cf06239ee",
   "metadata": {},
   "outputs": [],
   "source": [
    "numeric_columns = db_new_df.select_dtypes(include='number').columns\n",
    "db_new_df[numeric_columns] = scaler.fit_transform(db_new_df[numeric_columns])"
   ]
  },
  {
   "cell_type": "code",
   "execution_count": 646,
   "id": "fa2c76a9-03a3-471d-97f1-8eabd771e28e",
   "metadata": {},
   "outputs": [],
   "source": [
    "selected_columns = list(db_new_df.columns[1:6]) # Adjust column indices as needed\n",
    "db_new2 = db_new_df[selected_columns]"
   ]
  },
  {
   "cell_type": "code",
   "execution_count": 647,
   "id": "a30deb41-7331-4fb0-b82b-6a01af843499",
   "metadata": {},
   "outputs": [],
   "source": [
    "new_df = pd.DataFrame(data=db_new2, columns=selected_columns)"
   ]
  },
  {
   "cell_type": "code",
   "execution_count": 648,
   "id": "3c91de95-9c50-4e53-84e5-99c51724d469",
   "metadata": {},
   "outputs": [
    {
     "data": {
      "text/html": [
       "<div>\n",
       "<style scoped>\n",
       "    .dataframe tbody tr th:only-of-type {\n",
       "        vertical-align: middle;\n",
       "    }\n",
       "\n",
       "    .dataframe tbody tr th {\n",
       "        vertical-align: top;\n",
       "    }\n",
       "\n",
       "    .dataframe thead th {\n",
       "        text-align: right;\n",
       "    }\n",
       "</style>\n",
       "<table border=\"1\" class=\"dataframe\">\n",
       "  <thead>\n",
       "    <tr style=\"text-align: right;\">\n",
       "      <th></th>\n",
       "      <th>Quantity</th>\n",
       "      <th>Price</th>\n",
       "      <th>countries_encoded</th>\n",
       "    </tr>\n",
       "  </thead>\n",
       "  <tbody>\n",
       "    <tr>\n",
       "      <th>0</th>\n",
       "      <td>-0.016384</td>\n",
       "      <td>0.105183</td>\n",
       "      <td>0.292243</td>\n",
       "    </tr>\n",
       "    <tr>\n",
       "      <th>1</th>\n",
       "      <td>-0.016384</td>\n",
       "      <td>0.099429</td>\n",
       "      <td>0.292243</td>\n",
       "    </tr>\n",
       "    <tr>\n",
       "      <th>2</th>\n",
       "      <td>-0.016384</td>\n",
       "      <td>0.099429</td>\n",
       "      <td>0.292243</td>\n",
       "    </tr>\n",
       "    <tr>\n",
       "      <th>3</th>\n",
       "      <td>0.355355</td>\n",
       "      <td>-0.034359</td>\n",
       "      <td>0.292243</td>\n",
       "    </tr>\n",
       "    <tr>\n",
       "      <th>4</th>\n",
       "      <td>0.107529</td>\n",
       "      <td>-0.058814</td>\n",
       "      <td>0.292243</td>\n",
       "    </tr>\n",
       "    <tr>\n",
       "      <th>...</th>\n",
       "      <td>...</td>\n",
       "      <td>...</td>\n",
       "      <td>...</td>\n",
       "    </tr>\n",
       "    <tr>\n",
       "      <th>525456</th>\n",
       "      <td>-0.119645</td>\n",
       "      <td>-0.009903</td>\n",
       "      <td>0.292243</td>\n",
       "    </tr>\n",
       "    <tr>\n",
       "      <th>525457</th>\n",
       "      <td>-0.129971</td>\n",
       "      <td>0.013114</td>\n",
       "      <td>0.292243</td>\n",
       "    </tr>\n",
       "    <tr>\n",
       "      <th>525458</th>\n",
       "      <td>-0.129971</td>\n",
       "      <td>0.013114</td>\n",
       "      <td>0.292243</td>\n",
       "    </tr>\n",
       "    <tr>\n",
       "      <th>525459</th>\n",
       "      <td>-0.119645</td>\n",
       "      <td>0.013114</td>\n",
       "      <td>0.292243</td>\n",
       "    </tr>\n",
       "    <tr>\n",
       "      <th>525460</th>\n",
       "      <td>-0.119645</td>\n",
       "      <td>-0.038674</td>\n",
       "      <td>0.292243</td>\n",
       "    </tr>\n",
       "  </tbody>\n",
       "</table>\n",
       "<p>407695 rows × 3 columns</p>\n",
       "</div>"
      ],
      "text/plain": [
       "        Quantity     Price  countries_encoded\n",
       "0      -0.016384  0.105183           0.292243\n",
       "1      -0.016384  0.099429           0.292243\n",
       "2      -0.016384  0.099429           0.292243\n",
       "3       0.355355 -0.034359           0.292243\n",
       "4       0.107529 -0.058814           0.292243\n",
       "...          ...       ...                ...\n",
       "525456 -0.119645 -0.009903           0.292243\n",
       "525457 -0.129971  0.013114           0.292243\n",
       "525458 -0.129971  0.013114           0.292243\n",
       "525459 -0.119645  0.013114           0.292243\n",
       "525460 -0.119645 -0.038674           0.292243\n",
       "\n",
       "[407695 rows x 3 columns]"
      ]
     },
     "execution_count": 648,
     "metadata": {},
     "output_type": "execute_result"
    }
   ],
   "source": [
    "new_df"
   ]
  },
  {
   "cell_type": "code",
   "execution_count": 649,
   "id": "e0c5b4a9-0d6a-44e4-adb6-130748da4edb",
   "metadata": {},
   "outputs": [
    {
     "data": {
      "text/html": [
       "<div>\n",
       "<style scoped>\n",
       "    .dataframe tbody tr th:only-of-type {\n",
       "        vertical-align: middle;\n",
       "    }\n",
       "\n",
       "    .dataframe tbody tr th {\n",
       "        vertical-align: top;\n",
       "    }\n",
       "\n",
       "    .dataframe thead th {\n",
       "        text-align: right;\n",
       "    }\n",
       "</style>\n",
       "<table border=\"1\" class=\"dataframe\">\n",
       "  <thead>\n",
       "    <tr style=\"text-align: right;\">\n",
       "      <th></th>\n",
       "      <th>Quantity</th>\n",
       "      <th>Price</th>\n",
       "      <th>countries_encoded</th>\n",
       "    </tr>\n",
       "  </thead>\n",
       "  <tbody>\n",
       "    <tr>\n",
       "      <th>count</th>\n",
       "      <td>4.076950e+05</td>\n",
       "      <td>4.076950e+05</td>\n",
       "      <td>4.076950e+05</td>\n",
       "    </tr>\n",
       "    <tr>\n",
       "      <th>mean</th>\n",
       "      <td>1.488815e-14</td>\n",
       "      <td>-3.250159e-15</td>\n",
       "      <td>-2.886835e-14</td>\n",
       "    </tr>\n",
       "    <tr>\n",
       "      <th>std</th>\n",
       "      <td>1.000001e+00</td>\n",
       "      <td>1.000001e+00</td>\n",
       "      <td>1.000001e+00</td>\n",
       "    </tr>\n",
       "    <tr>\n",
       "      <th>min</th>\n",
       "      <td>-1.299712e-01</td>\n",
       "      <td>-9.477873e-02</td>\n",
       "      <td>-5.154375e+00</td>\n",
       "    </tr>\n",
       "    <tr>\n",
       "      <th>25%</th>\n",
       "      <td>-1.196451e-01</td>\n",
       "      <td>-5.881435e-02</td>\n",
       "      <td>2.922427e-01</td>\n",
       "    </tr>\n",
       "    <tr>\n",
       "      <th>50%</th>\n",
       "      <td>-8.866686e-02</td>\n",
       "      <td>-3.867430e-02</td>\n",
       "      <td>2.922427e-01</td>\n",
       "    </tr>\n",
       "    <tr>\n",
       "      <th>75%</th>\n",
       "      <td>-1.638426e-02</td>\n",
       "      <td>1.311441e-02</td>\n",
       "      <td>2.922427e-01</td>\n",
       "    </tr>\n",
       "    <tr>\n",
       "      <th>max</th>\n",
       "      <td>1.976249e+02</td>\n",
       "      <td>3.150539e+02</td>\n",
       "      <td>6.126319e-01</td>\n",
       "    </tr>\n",
       "  </tbody>\n",
       "</table>\n",
       "</div>"
      ],
      "text/plain": [
       "           Quantity         Price  countries_encoded\n",
       "count  4.076950e+05  4.076950e+05       4.076950e+05\n",
       "mean   1.488815e-14 -3.250159e-15      -2.886835e-14\n",
       "std    1.000001e+00  1.000001e+00       1.000001e+00\n",
       "min   -1.299712e-01 -9.477873e-02      -5.154375e+00\n",
       "25%   -1.196451e-01 -5.881435e-02       2.922427e-01\n",
       "50%   -8.866686e-02 -3.867430e-02       2.922427e-01\n",
       "75%   -1.638426e-02  1.311441e-02       2.922427e-01\n",
       "max    1.976249e+02  3.150539e+02       6.126319e-01"
      ]
     },
     "execution_count": 649,
     "metadata": {},
     "output_type": "execute_result"
    }
   ],
   "source": [
    "new_df.describe()"
   ]
  },
  {
   "cell_type": "code",
   "execution_count": 650,
   "id": "f70332c7-2efc-49c1-9508-5a547b598500",
   "metadata": {},
   "outputs": [],
   "source": [
    "y_pred = kmeans.fit_predict(new_df)"
   ]
  },
  {
   "cell_type": "code",
   "execution_count": 651,
   "id": "2f8d3fec-b2f3-4a1c-9d7b-09c483087c6b",
   "metadata": {},
   "outputs": [
    {
     "data": {
      "text/plain": [
       "array([[-4.27825987e-02, -7.18001511e-03,  2.78368407e-01],\n",
       "       [ 4.15867055e-02,  1.28458177e-02, -3.41864429e+00],\n",
       "       [-1.29971208e-01,  2.91532223e+02,  2.92242681e-01],\n",
       "       [ 5.03378277e+01, -8.89128648e-02, -1.90471229e+00],\n",
       "       [ 1.18974551e+02, -8.61712536e-02, -2.13737592e+00],\n",
       "       [-1.29971208e-01,  3.73656651e+01, -1.99053084e+00],\n",
       "       [ 1.79868344e+01, -8.25878936e-02, -7.74507945e-01],\n",
       "       [-1.29971208e-01,  2.00102235e+02, -1.46989829e+00],\n",
       "       [ 3.28775966e+00, -5.98178455e-02, -1.05858025e-01]])"
      ]
     },
     "execution_count": 651,
     "metadata": {},
     "output_type": "execute_result"
    }
   ],
   "source": [
    "kmeans.cluster_centers_"
   ]
  },
  {
   "cell_type": "code",
   "execution_count": 652,
   "id": "bb0ec838-cb6c-4d9a-b30f-0aafb899ad41",
   "metadata": {},
   "outputs": [
    {
     "data": {
      "text/plain": [
       "array([ True,  True,  True, ...,  True,  True,  True])"
      ]
     },
     "execution_count": 652,
     "metadata": {},
     "output_type": "execute_result"
    }
   ],
   "source": [
    "y_pred==0"
   ]
  },
  {
   "cell_type": "code",
   "execution_count": 653,
   "id": "cbdd4f37-66b0-49bc-ae6c-eb42980bb886",
   "metadata": {},
   "outputs": [
    {
     "data": {
      "text/html": [
       "<div>\n",
       "<style scoped>\n",
       "    .dataframe tbody tr th:only-of-type {\n",
       "        vertical-align: middle;\n",
       "    }\n",
       "\n",
       "    .dataframe tbody tr th {\n",
       "        vertical-align: top;\n",
       "    }\n",
       "\n",
       "    .dataframe thead th {\n",
       "        text-align: right;\n",
       "    }\n",
       "</style>\n",
       "<table border=\"1\" class=\"dataframe\">\n",
       "  <thead>\n",
       "    <tr style=\"text-align: right;\">\n",
       "      <th></th>\n",
       "      <th>Quantity</th>\n",
       "      <th>Price</th>\n",
       "      <th>countries_encoded</th>\n",
       "    </tr>\n",
       "  </thead>\n",
       "  <tbody>\n",
       "    <tr>\n",
       "      <th>0</th>\n",
       "      <td>-0.016384</td>\n",
       "      <td>0.105183</td>\n",
       "      <td>0.292243</td>\n",
       "    </tr>\n",
       "    <tr>\n",
       "      <th>1</th>\n",
       "      <td>-0.016384</td>\n",
       "      <td>0.099429</td>\n",
       "      <td>0.292243</td>\n",
       "    </tr>\n",
       "    <tr>\n",
       "      <th>2</th>\n",
       "      <td>-0.016384</td>\n",
       "      <td>0.099429</td>\n",
       "      <td>0.292243</td>\n",
       "    </tr>\n",
       "    <tr>\n",
       "      <th>3</th>\n",
       "      <td>0.355355</td>\n",
       "      <td>-0.034359</td>\n",
       "      <td>0.292243</td>\n",
       "    </tr>\n",
       "    <tr>\n",
       "      <th>4</th>\n",
       "      <td>0.107529</td>\n",
       "      <td>-0.058814</td>\n",
       "      <td>0.292243</td>\n",
       "    </tr>\n",
       "    <tr>\n",
       "      <th>...</th>\n",
       "      <td>...</td>\n",
       "      <td>...</td>\n",
       "      <td>...</td>\n",
       "    </tr>\n",
       "    <tr>\n",
       "      <th>525456</th>\n",
       "      <td>-0.119645</td>\n",
       "      <td>-0.009903</td>\n",
       "      <td>0.292243</td>\n",
       "    </tr>\n",
       "    <tr>\n",
       "      <th>525457</th>\n",
       "      <td>-0.129971</td>\n",
       "      <td>0.013114</td>\n",
       "      <td>0.292243</td>\n",
       "    </tr>\n",
       "    <tr>\n",
       "      <th>525458</th>\n",
       "      <td>-0.129971</td>\n",
       "      <td>0.013114</td>\n",
       "      <td>0.292243</td>\n",
       "    </tr>\n",
       "    <tr>\n",
       "      <th>525459</th>\n",
       "      <td>-0.119645</td>\n",
       "      <td>0.013114</td>\n",
       "      <td>0.292243</td>\n",
       "    </tr>\n",
       "    <tr>\n",
       "      <th>525460</th>\n",
       "      <td>-0.119645</td>\n",
       "      <td>-0.038674</td>\n",
       "      <td>0.292243</td>\n",
       "    </tr>\n",
       "  </tbody>\n",
       "</table>\n",
       "<p>374546 rows × 3 columns</p>\n",
       "</div>"
      ],
      "text/plain": [
       "        Quantity     Price  countries_encoded\n",
       "0      -0.016384  0.105183           0.292243\n",
       "1      -0.016384  0.099429           0.292243\n",
       "2      -0.016384  0.099429           0.292243\n",
       "3       0.355355 -0.034359           0.292243\n",
       "4       0.107529 -0.058814           0.292243\n",
       "...          ...       ...                ...\n",
       "525456 -0.119645 -0.009903           0.292243\n",
       "525457 -0.129971  0.013114           0.292243\n",
       "525458 -0.129971  0.013114           0.292243\n",
       "525459 -0.119645  0.013114           0.292243\n",
       "525460 -0.119645 -0.038674           0.292243\n",
       "\n",
       "[374546 rows x 3 columns]"
      ]
     },
     "execution_count": 653,
     "metadata": {},
     "output_type": "execute_result"
    }
   ],
   "source": [
    "new_df[y_pred==0]"
   ]
  },
  {
   "cell_type": "code",
   "execution_count": 654,
   "id": "e16282a1-b0f4-4484-9468-6a5359a267c0",
   "metadata": {},
   "outputs": [
    {
     "data": {
      "text/plain": [
       "0        -0.016384\n",
       "1        -0.016384\n",
       "2        -0.016384\n",
       "3         0.355355\n",
       "4         0.107529\n",
       "            ...   \n",
       "525456   -0.119645\n",
       "525457   -0.129971\n",
       "525458   -0.129971\n",
       "525459   -0.119645\n",
       "525460   -0.119645\n",
       "Name: Quantity, Length: 407695, dtype: float64"
      ]
     },
     "execution_count": 654,
     "metadata": {},
     "output_type": "execute_result"
    }
   ],
   "source": [
    "new_df.iloc[:,0]"
   ]
  },
  {
   "cell_type": "code",
   "execution_count": 655,
   "id": "ac59be6d-3fb2-4da0-bcda-bb45b09d789a",
   "metadata": {},
   "outputs": [
    {
     "data": {
      "text/html": [
       "<div>\n",
       "<style scoped>\n",
       "    .dataframe tbody tr th:only-of-type {\n",
       "        vertical-align: middle;\n",
       "    }\n",
       "\n",
       "    .dataframe tbody tr th {\n",
       "        vertical-align: top;\n",
       "    }\n",
       "\n",
       "    .dataframe thead th {\n",
       "        text-align: right;\n",
       "    }\n",
       "</style>\n",
       "<table border=\"1\" class=\"dataframe\">\n",
       "  <thead>\n",
       "    <tr style=\"text-align: right;\">\n",
       "      <th></th>\n",
       "      <th>Quantity</th>\n",
       "      <th>Price</th>\n",
       "      <th>countries_encoded</th>\n",
       "    </tr>\n",
       "  </thead>\n",
       "  <tbody>\n",
       "    <tr>\n",
       "      <th>0</th>\n",
       "      <td>-0.016384</td>\n",
       "      <td>0.105183</td>\n",
       "      <td>0.292243</td>\n",
       "    </tr>\n",
       "    <tr>\n",
       "      <th>1</th>\n",
       "      <td>-0.016384</td>\n",
       "      <td>0.099429</td>\n",
       "      <td>0.292243</td>\n",
       "    </tr>\n",
       "    <tr>\n",
       "      <th>2</th>\n",
       "      <td>-0.016384</td>\n",
       "      <td>0.099429</td>\n",
       "      <td>0.292243</td>\n",
       "    </tr>\n",
       "    <tr>\n",
       "      <th>3</th>\n",
       "      <td>0.355355</td>\n",
       "      <td>-0.034359</td>\n",
       "      <td>0.292243</td>\n",
       "    </tr>\n",
       "    <tr>\n",
       "      <th>4</th>\n",
       "      <td>0.107529</td>\n",
       "      <td>-0.058814</td>\n",
       "      <td>0.292243</td>\n",
       "    </tr>\n",
       "    <tr>\n",
       "      <th>...</th>\n",
       "      <td>...</td>\n",
       "      <td>...</td>\n",
       "      <td>...</td>\n",
       "    </tr>\n",
       "    <tr>\n",
       "      <th>525456</th>\n",
       "      <td>-0.119645</td>\n",
       "      <td>-0.009903</td>\n",
       "      <td>0.292243</td>\n",
       "    </tr>\n",
       "    <tr>\n",
       "      <th>525457</th>\n",
       "      <td>-0.129971</td>\n",
       "      <td>0.013114</td>\n",
       "      <td>0.292243</td>\n",
       "    </tr>\n",
       "    <tr>\n",
       "      <th>525458</th>\n",
       "      <td>-0.129971</td>\n",
       "      <td>0.013114</td>\n",
       "      <td>0.292243</td>\n",
       "    </tr>\n",
       "    <tr>\n",
       "      <th>525459</th>\n",
       "      <td>-0.119645</td>\n",
       "      <td>0.013114</td>\n",
       "      <td>0.292243</td>\n",
       "    </tr>\n",
       "    <tr>\n",
       "      <th>525460</th>\n",
       "      <td>-0.119645</td>\n",
       "      <td>-0.038674</td>\n",
       "      <td>0.292243</td>\n",
       "    </tr>\n",
       "  </tbody>\n",
       "</table>\n",
       "<p>407695 rows × 3 columns</p>\n",
       "</div>"
      ],
      "text/plain": [
       "        Quantity     Price  countries_encoded\n",
       "0      -0.016384  0.105183           0.292243\n",
       "1      -0.016384  0.099429           0.292243\n",
       "2      -0.016384  0.099429           0.292243\n",
       "3       0.355355 -0.034359           0.292243\n",
       "4       0.107529 -0.058814           0.292243\n",
       "...          ...       ...                ...\n",
       "525456 -0.119645 -0.009903           0.292243\n",
       "525457 -0.129971  0.013114           0.292243\n",
       "525458 -0.129971  0.013114           0.292243\n",
       "525459 -0.119645  0.013114           0.292243\n",
       "525460 -0.119645 -0.038674           0.292243\n",
       "\n",
       "[407695 rows x 3 columns]"
      ]
     },
     "execution_count": 655,
     "metadata": {},
     "output_type": "execute_result"
    }
   ],
   "source": [
    "new_df"
   ]
  },
  {
   "cell_type": "code",
   "execution_count": 656,
   "id": "430784e9-95d4-4fba-b4a9-e030c5d60809",
   "metadata": {},
   "outputs": [],
   "source": [
    "kmeans = KMeans(n_clusters=3, random_state=42)\n",
    "\n",
    "# Fit the KMeans model to your data\n",
    "kmeans.fit(new_df)\n",
    "\n",
    "# Get the cluster centers\n",
    "cluster_centers = kmeans.cluster_centers_"
   ]
  },
  {
   "cell_type": "code",
   "execution_count": 657,
   "id": "724b0b98-37a3-4d71-b86f-f921cf092537",
   "metadata": {},
   "outputs": [],
   "source": [
    "def plotFeatures(col1, col2):\n",
    "    plt.scatter(\n",
    "        new_df[y_pred==0].iloc[:,col1],\n",
    "        new_df[y_pred==0].iloc[:,col2],\n",
    "        s=50,\n",
    "        c='red'\n",
    "    )\n",
    "    plt.scatter(\n",
    "        new_df[y_pred==1].iloc[:,col1],\n",
    "        new_df[y_pred==1].iloc[:,col2],\n",
    "        s=50,\n",
    "        c='blue'\n",
    "    )\n",
    "    plt.scatter(\n",
    "        new_df[y_pred==2].iloc[:,col1],\n",
    "        new_df[y_pred==2].iloc[:,col2],\n",
    "        c='green'\n",
    "    )\n",
    "    plt.scatter(\n",
    "        kmeans.cluster_centers_[:,col1],\n",
    "        kmeans.cluster_centers_[:,col2],\n",
    "        s=200,\n",
    "        c='yellow'\n",
    "    )\n",
    "    xmin, xmax = plt.xlim()  # Get the current limits of the x-axis\n",
    "    plt.xlim(min(xmin, 0), xmax)\n",
    "    \n",
    "    plt.xlabel(x.columns[col1])\n",
    "    plt.ylabel(x.columns[col2])\n",
    "    plt.show();"
   ]
  },
  {
   "cell_type": "code",
   "execution_count": 658,
   "id": "785ce56e-f475-4e2e-9fbd-6bf781b6329f",
   "metadata": {},
   "outputs": [
    {
     "data": {
      "image/png": "[encoded data removed]",
      "text/plain": [
       "<Figure size 640x480 with 1 Axes>"
      ]
     },
     "metadata": {},
     "output_type": "display_data"
    }
   ],
   "source": [
    "plotFeatures(2, 1)"
   ]
  },
  {
   "cell_type": "code",
   "execution_count": 659,
   "id": "70336e7d-d97c-440f-9a73-fe81eabb0280",
   "metadata": {},
   "outputs": [
    {
     "data": {
      "image/png": "[encoded data removed]",
      "text/plain": [
       "<Figure size 640x480 with 1 Axes>"
      ]
     },
     "metadata": {},
     "output_type": "display_data"
    }
   ],
   "source": [
    "plotFeatures(0, 2)"
   ]
  },
  {
   "cell_type": "code",
   "execution_count": 660,
   "id": "e5acb70a-be90-4e47-b388-b64850250e44",
   "metadata": {},
   "outputs": [
    {
     "data": {
      "image/png": "[encoded data removed]",
      "text/plain": [
       "<Figure size 640x480 with 1 Axes>"
      ]
     },
     "metadata": {},
     "output_type": "display_data"
    }
   ],
   "source": [
    "plotFeatures(0, 1)"
   ]
  },
  {
   "cell_type": "markdown",
   "id": "878838e2-1b3d-4d74-b6d3-610dd2793feb",
   "metadata": {},
   "source": [
    "## Silhouette Score"
   ]
  },
  {
   "cell_type": "code",
   "execution_count": 661,
   "id": "59a68194-dc38-41c7-abd4-42dfe29372a4",
   "metadata": {},
   "outputs": [
    {
     "data": {
      "text/plain": [
       "0.9217820231646697"
      ]
     },
     "execution_count": 661,
     "metadata": {},
     "output_type": "execute_result"
    }
   ],
   "source": [
    "silhouette_score(new_df, y_pred)"
   ]
  },
  {
   "cell_type": "code",
   "execution_count": null,
   "id": "383cc3de-6a7d-4f42-8397-96d22c9755ba",
   "metadata": {},
   "outputs": [],
   "source": [
    "for k in range(2, 10):\n",
    "    kmeans = KMeans(n_clusters=k, random_state=42)\n",
    "    y_pred = kmeans.fit_predict(new_df)\n",
    "    print(f\"The silhouette score for {k} clusters is: {silhouette_score(new_df, y_pred)}\")"
   ]
  },
  {
   "cell_type": "markdown",
   "id": "8f1877d0-3cfb-487d-9519-310a60be954d",
   "metadata": {},
   "source": [
    "Excellant Silhouette score. Showing that the clusters are wll separated from each other as well as how similiar the points are within their own clusters are. The score is between -1 and +1. 0.92 is a great score."
   ]
  },
  {
   "cell_type": "markdown",
   "id": "3c83f625-7551-460a-a884-5bb16e611582",
   "metadata": {},
   "source": [
    "## Market Basket Analysis (MBA)"
   ]
  },
  {
   "cell_type": "code",
   "execution_count": null,
   "id": "45bf7304-1f31-40f3-aa1d-86c72ade2118",
   "metadata": {},
   "outputs": [],
   "source": []
  },
  {
   "cell_type": "code",
   "execution_count": null,
   "id": "20dcf5e2-e04a-48fc-9620-72f17cc9219d",
   "metadata": {},
   "outputs": [],
   "source": []
  },
  {
   "cell_type": "code",
   "execution_count": null,
   "id": "9ac094c4-c143-47a1-b0dc-571ca255b8c1",
   "metadata": {},
   "outputs": [],
   "source": []
  }
 ],
 "metadata": {
  "kernelspec": {
   "display_name": "Python 3 (ipykernel)",
   "language": "python",
   "name": "python3"
  },
  "language_info": {
   "codemirror_mode": {
    "name": "ipython",
    "version": 3
   },
   "file_extension": ".py",
   "mimetype": "text/x-python",
   "name": "python",
   "nbconvert_exporter": "python",
   "pygments_lexer": "ipython3",
   "version": "3.9.13"
  }
 },
 "nbformat": 4,
 "nbformat_minor": 5
}
